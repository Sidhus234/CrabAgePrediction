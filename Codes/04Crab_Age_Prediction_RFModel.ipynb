{
 "cells": [
  {
   "cell_type": "markdown",
   "metadata": {},
   "source": [
    "# <span style=\"color:Maroon\">Crab Age Prediction - Random Forest Model"
   ]
  },
  {
   "cell_type": "markdown",
   "metadata": {},
   "source": [
    "             "
   ]
  },
  {
   "cell_type": "code",
   "execution_count": 1,
   "metadata": {},
   "outputs": [],
   "source": [
    "# Import required libraries\n",
    "import os\n",
    "import pandas as pd\n",
    "import numpy as np\n",
    "import matplotlib.pyplot as plt\n",
    "import warnings\n",
    "warnings.filterwarnings(\"ignore\")\n",
    "np.random.seed(0)"
   ]
  },
  {
   "cell_type": "code",
   "execution_count": 2,
   "metadata": {},
   "outputs": [
    {
     "data": {
      "text/plain": [
       "'C:\\\\Users\\\\sidhu\\\\Downloads\\\\CrabAgePrediction\\\\Codes'"
      ]
     },
     "execution_count": 2,
     "metadata": {},
     "output_type": "execute_result"
    }
   ],
   "source": [
    "os.getcwd()"
   ]
  },
  {
   "cell_type": "code",
   "execution_count": 3,
   "metadata": {},
   "outputs": [
    {
     "data": {
      "text/html": [
       "<div>\n",
       "<style scoped>\n",
       "    .dataframe tbody tr th:only-of-type {\n",
       "        vertical-align: middle;\n",
       "    }\n",
       "\n",
       "    .dataframe tbody tr th {\n",
       "        vertical-align: top;\n",
       "    }\n",
       "\n",
       "    .dataframe thead th {\n",
       "        text-align: right;\n",
       "    }\n",
       "</style>\n",
       "<table border=\"1\" class=\"dataframe\">\n",
       "  <thead>\n",
       "    <tr style=\"text-align: right;\">\n",
       "      <th></th>\n",
       "      <th>Length</th>\n",
       "      <th>Diameter</th>\n",
       "      <th>Height</th>\n",
       "      <th>Weight</th>\n",
       "      <th>Shucked Weight</th>\n",
       "      <th>Viscera Weight</th>\n",
       "      <th>Shell Weight</th>\n",
       "      <th>Age</th>\n",
       "      <th>Sex_F</th>\n",
       "      <th>Sex_I</th>\n",
       "      <th>Sex_M</th>\n",
       "    </tr>\n",
       "  </thead>\n",
       "  <tbody>\n",
       "    <tr>\n",
       "      <th>0</th>\n",
       "      <td>1.4375</td>\n",
       "      <td>1.1750</td>\n",
       "      <td>0.4125</td>\n",
       "      <td>24.635715</td>\n",
       "      <td>12.332033</td>\n",
       "      <td>5.584852</td>\n",
       "      <td>6.747181</td>\n",
       "      <td>9</td>\n",
       "      <td>1</td>\n",
       "      <td>0</td>\n",
       "      <td>0</td>\n",
       "    </tr>\n",
       "    <tr>\n",
       "      <th>1</th>\n",
       "      <td>0.8875</td>\n",
       "      <td>0.6500</td>\n",
       "      <td>0.2125</td>\n",
       "      <td>5.400580</td>\n",
       "      <td>2.296310</td>\n",
       "      <td>1.374951</td>\n",
       "      <td>1.559222</td>\n",
       "      <td>6</td>\n",
       "      <td>0</td>\n",
       "      <td>0</td>\n",
       "      <td>1</td>\n",
       "    </tr>\n",
       "    <tr>\n",
       "      <th>2</th>\n",
       "      <td>1.0375</td>\n",
       "      <td>0.7750</td>\n",
       "      <td>0.2500</td>\n",
       "      <td>7.952035</td>\n",
       "      <td>3.231843</td>\n",
       "      <td>1.601747</td>\n",
       "      <td>2.764076</td>\n",
       "      <td>6</td>\n",
       "      <td>0</td>\n",
       "      <td>1</td>\n",
       "      <td>0</td>\n",
       "    </tr>\n",
       "    <tr>\n",
       "      <th>3</th>\n",
       "      <td>1.1750</td>\n",
       "      <td>0.8875</td>\n",
       "      <td>0.2500</td>\n",
       "      <td>13.480187</td>\n",
       "      <td>4.748541</td>\n",
       "      <td>2.282135</td>\n",
       "      <td>5.244657</td>\n",
       "      <td>10</td>\n",
       "      <td>1</td>\n",
       "      <td>0</td>\n",
       "      <td>0</td>\n",
       "    </tr>\n",
       "    <tr>\n",
       "      <th>4</th>\n",
       "      <td>0.8875</td>\n",
       "      <td>0.6625</td>\n",
       "      <td>0.2125</td>\n",
       "      <td>6.903103</td>\n",
       "      <td>3.458639</td>\n",
       "      <td>1.488349</td>\n",
       "      <td>1.700970</td>\n",
       "      <td>6</td>\n",
       "      <td>0</td>\n",
       "      <td>1</td>\n",
       "      <td>0</td>\n",
       "    </tr>\n",
       "  </tbody>\n",
       "</table>\n",
       "</div>"
      ],
      "text/plain": [
       "   Length  Diameter  Height     Weight  Shucked Weight  Viscera Weight  \\\n",
       "0  1.4375    1.1750  0.4125  24.635715       12.332033        5.584852   \n",
       "1  0.8875    0.6500  0.2125   5.400580        2.296310        1.374951   \n",
       "2  1.0375    0.7750  0.2500   7.952035        3.231843        1.601747   \n",
       "3  1.1750    0.8875  0.2500  13.480187        4.748541        2.282135   \n",
       "4  0.8875    0.6625  0.2125   6.903103        3.458639        1.488349   \n",
       "\n",
       "   Shell Weight  Age  Sex_F  Sex_I  Sex_M  \n",
       "0      6.747181    9      1      0      0  \n",
       "1      1.559222    6      0      0      1  \n",
       "2      2.764076    6      0      1      0  \n",
       "3      5.244657   10      1      0      0  \n",
       "4      1.700970    6      0      1      0  "
      ]
     },
     "execution_count": 3,
     "metadata": {},
     "output_type": "execute_result"
    }
   ],
   "source": [
    "# Read the csv file data\n",
    "os.chdir('..\\\\Data\\\\')\n",
    "df = pd.read_csv('data_treated.csv')\n",
    "df.head()"
   ]
  },
  {
   "cell_type": "code",
   "execution_count": 4,
   "metadata": {},
   "outputs": [
    {
     "data": {
      "text/html": [
       "<div>\n",
       "<style scoped>\n",
       "    .dataframe tbody tr th:only-of-type {\n",
       "        vertical-align: middle;\n",
       "    }\n",
       "\n",
       "    .dataframe tbody tr th {\n",
       "        vertical-align: top;\n",
       "    }\n",
       "\n",
       "    .dataframe thead th {\n",
       "        text-align: right;\n",
       "    }\n",
       "</style>\n",
       "<table border=\"1\" class=\"dataframe\">\n",
       "  <thead>\n",
       "    <tr style=\"text-align: right;\">\n",
       "      <th></th>\n",
       "      <th>Length</th>\n",
       "      <th>Diameter</th>\n",
       "      <th>Height</th>\n",
       "      <th>Weight</th>\n",
       "      <th>Shucked Weight</th>\n",
       "      <th>Viscera Weight</th>\n",
       "      <th>Shell Weight</th>\n",
       "      <th>Age</th>\n",
       "      <th>Sex_F</th>\n",
       "      <th>Sex_I</th>\n",
       "      <th>Sex_M</th>\n",
       "    </tr>\n",
       "  </thead>\n",
       "  <tbody>\n",
       "    <tr>\n",
       "      <th>count</th>\n",
       "      <td>3876.000000</td>\n",
       "      <td>3876.000000</td>\n",
       "      <td>3876.000000</td>\n",
       "      <td>3876.000000</td>\n",
       "      <td>3876.000000</td>\n",
       "      <td>3876.000000</td>\n",
       "      <td>3876.000000</td>\n",
       "      <td>3876.000000</td>\n",
       "      <td>3876.000000</td>\n",
       "      <td>3876.000000</td>\n",
       "      <td>3876.000000</td>\n",
       "    </tr>\n",
       "    <tr>\n",
       "      <th>mean</th>\n",
       "      <td>1.309256</td>\n",
       "      <td>1.019176</td>\n",
       "      <td>0.347746</td>\n",
       "      <td>23.399535</td>\n",
       "      <td>10.129307</td>\n",
       "      <td>5.106812</td>\n",
       "      <td>6.742628</td>\n",
       "      <td>9.915635</td>\n",
       "      <td>0.314499</td>\n",
       "      <td>0.318111</td>\n",
       "      <td>0.367389</td>\n",
       "    </tr>\n",
       "    <tr>\n",
       "      <th>std</th>\n",
       "      <td>0.299227</td>\n",
       "      <td>0.247200</td>\n",
       "      <td>0.095381</td>\n",
       "      <td>13.658174</td>\n",
       "      <td>6.148418</td>\n",
       "      <td>3.066542</td>\n",
       "      <td>3.848888</td>\n",
       "      <td>3.122588</td>\n",
       "      <td>0.464376</td>\n",
       "      <td>0.465803</td>\n",
       "      <td>0.482156</td>\n",
       "    </tr>\n",
       "    <tr>\n",
       "      <th>min</th>\n",
       "      <td>0.187500</td>\n",
       "      <td>0.137500</td>\n",
       "      <td>0.000000</td>\n",
       "      <td>0.056699</td>\n",
       "      <td>0.028349</td>\n",
       "      <td>0.014175</td>\n",
       "      <td>0.042524</td>\n",
       "      <td>1.000000</td>\n",
       "      <td>0.000000</td>\n",
       "      <td>0.000000</td>\n",
       "      <td>0.000000</td>\n",
       "    </tr>\n",
       "    <tr>\n",
       "      <th>25%</th>\n",
       "      <td>1.125000</td>\n",
       "      <td>0.875000</td>\n",
       "      <td>0.287500</td>\n",
       "      <td>12.647421</td>\n",
       "      <td>5.326162</td>\n",
       "      <td>2.650678</td>\n",
       "      <td>3.699610</td>\n",
       "      <td>8.000000</td>\n",
       "      <td>0.000000</td>\n",
       "      <td>0.000000</td>\n",
       "      <td>0.000000</td>\n",
       "    </tr>\n",
       "    <tr>\n",
       "      <th>50%</th>\n",
       "      <td>1.362500</td>\n",
       "      <td>1.062500</td>\n",
       "      <td>0.350000</td>\n",
       "      <td>22.743386</td>\n",
       "      <td>9.518345</td>\n",
       "      <td>4.847764</td>\n",
       "      <td>6.662132</td>\n",
       "      <td>10.000000</td>\n",
       "      <td>0.000000</td>\n",
       "      <td>0.000000</td>\n",
       "      <td>0.000000</td>\n",
       "    </tr>\n",
       "    <tr>\n",
       "      <th>75%</th>\n",
       "      <td>1.537500</td>\n",
       "      <td>1.200000</td>\n",
       "      <td>0.412500</td>\n",
       "      <td>32.644449</td>\n",
       "      <td>14.188925</td>\n",
       "      <td>7.172423</td>\n",
       "      <td>9.273830</td>\n",
       "      <td>11.000000</td>\n",
       "      <td>1.000000</td>\n",
       "      <td>1.000000</td>\n",
       "      <td>1.000000</td>\n",
       "    </tr>\n",
       "    <tr>\n",
       "      <th>max</th>\n",
       "      <td>2.000000</td>\n",
       "      <td>1.575000</td>\n",
       "      <td>0.625000</td>\n",
       "      <td>72.432972</td>\n",
       "      <td>34.926584</td>\n",
       "      <td>16.726205</td>\n",
       "      <td>20.581737</td>\n",
       "      <td>20.000000</td>\n",
       "      <td>1.000000</td>\n",
       "      <td>1.000000</td>\n",
       "      <td>1.000000</td>\n",
       "    </tr>\n",
       "  </tbody>\n",
       "</table>\n",
       "</div>"
      ],
      "text/plain": [
       "            Length     Diameter       Height       Weight  Shucked Weight  \\\n",
       "count  3876.000000  3876.000000  3876.000000  3876.000000     3876.000000   \n",
       "mean      1.309256     1.019176     0.347746    23.399535       10.129307   \n",
       "std       0.299227     0.247200     0.095381    13.658174        6.148418   \n",
       "min       0.187500     0.137500     0.000000     0.056699        0.028349   \n",
       "25%       1.125000     0.875000     0.287500    12.647421        5.326162   \n",
       "50%       1.362500     1.062500     0.350000    22.743386        9.518345   \n",
       "75%       1.537500     1.200000     0.412500    32.644449       14.188925   \n",
       "max       2.000000     1.575000     0.625000    72.432972       34.926584   \n",
       "\n",
       "       Viscera Weight  Shell Weight          Age        Sex_F        Sex_I  \\\n",
       "count     3876.000000   3876.000000  3876.000000  3876.000000  3876.000000   \n",
       "mean         5.106812      6.742628     9.915635     0.314499     0.318111   \n",
       "std          3.066542      3.848888     3.122588     0.464376     0.465803   \n",
       "min          0.014175      0.042524     1.000000     0.000000     0.000000   \n",
       "25%          2.650678      3.699610     8.000000     0.000000     0.000000   \n",
       "50%          4.847764      6.662132    10.000000     0.000000     0.000000   \n",
       "75%          7.172423      9.273830    11.000000     1.000000     1.000000   \n",
       "max         16.726205     20.581737    20.000000     1.000000     1.000000   \n",
       "\n",
       "             Sex_M  \n",
       "count  3876.000000  \n",
       "mean      0.367389  \n",
       "std       0.482156  \n",
       "min       0.000000  \n",
       "25%       0.000000  \n",
       "50%       0.000000  \n",
       "75%       1.000000  \n",
       "max       1.000000  "
      ]
     },
     "execution_count": 4,
     "metadata": {},
     "output_type": "execute_result"
    }
   ],
   "source": [
    "df.describe()"
   ]
  },
  {
   "cell_type": "markdown",
   "metadata": {},
   "source": [
    "## <span style=\"color:Maroon\">Part 3: Predictive Model"
   ]
  },
  {
   "cell_type": "markdown",
   "metadata": {},
   "source": [
    "#### <span style=\"color:Maroon\">Performance Metrics:\n",
    "<span style=\"color:Green\">To pick the final model, we shall look at three performance metrics:\n"
   ]
  },
  {
   "cell_type": "markdown",
   "metadata": {},
   "source": [
    "<span style=\"color:Green\">__Mean Absolute Error:__ The mean_absolute_error function computes mean absolute error, a risk metric corresponding to the expected value of the absolute error loss or -norm loss. For more details, please refer the below link: https://scikit-learn.org/stable/modules/model_evaluation.html#mean-absolute-error\n",
    "    \n",
    "        \n",
    "<span style=\"color:Green\">__Mean Squared Error:__ The mean_squared_error function computes mean square error, a risk metric corresponding to the expected value of the squared (quadratic) error or loss. For more details, please refer the below link: https://scikit-learn.org/stable/modules/model_evaluation.html#mean-squared-error\n",
    "\n",
    "<span style=\"color:Green\">__Rsquare:__ The r2_score function computes the coefficient of determination, usually denoted as R². It represents the proportion of variance (of y) that has been explained by the independent variables in the model. It provides an indication of goodness of fit and therefore a measure of how well unseen samples are likely to be predicted by the model, through the proportion of explained variance. As such variance is dataset dependent, R² may not be meaningfully comparable across different datasets. Best possible score is 1.0 and it can be negative (because the model can be arbitrarily worse). A constant model that always predicts the expected value of y, disregarding the input features, would get a R² score of 0.0. For more details, please refer the below link: https://scikit-learn.org/stable/modules/model_evaluation.html#r2-score"
   ]
  },
  {
   "cell_type": "markdown",
   "metadata": {},
   "source": [
    "               "
   ]
  },
  {
   "cell_type": "markdown",
   "metadata": {},
   "source": [
    "           "
   ]
  },
  {
   "cell_type": "markdown",
   "metadata": {},
   "source": [
    "## <span style=\"color:Maroon\">Model 2: Random Forest model\n",
    "    \n",
    "<span style=\"color:Green\">Random forests or random decision forests are an ensemble learning method for classification, regression and other tasks that operate by constructing a multitude of decision trees at training time and outputting the class that is the mode of the classes or mean prediction of the individual trees.\n",
    "\n",
    "<span style=\"color:Green\">Hyper-parameters to be tuned in Random Forest model are:\n",
    "    1. n_estimators = number of trees in the foreset\n",
    "    2. max_features = max number of features considered for splitting a node\n",
    "    3. max_depth = max number of levels in each decision tree\n",
    "    4. min_samples_split = min number of data points placed in a node before the node is split\n",
    "    5. min_samples_leaf = min number of data points allowed in a leaf node\n",
    "    6. bootstrap = method for sampling data points (with or without replacement)"
   ]
  },
  {
   "cell_type": "code",
   "execution_count": 5,
   "metadata": {},
   "outputs": [],
   "source": [
    "# Import required libraries\n",
    "from sklearn.ensemble import RandomForestRegressor\n",
    "from sklearn.model_selection import train_test_split\n",
    "from sklearn.model_selection import RandomizedSearchCV\n",
    "from sklearn import metrics"
   ]
  },
  {
   "cell_type": "code",
   "execution_count": 6,
   "metadata": {},
   "outputs": [],
   "source": [
    "# Change drirectory to Images\n",
    "os.chdir(\"..\\\\Images\\\\\")"
   ]
  },
  {
   "cell_type": "code",
   "execution_count": 7,
   "metadata": {},
   "outputs": [],
   "source": [
    "# Divide the dataset into 70:30 for train and test purpose\n",
    "X_data = df.drop(\"Age\", axis=1)\n",
    "y_data = df[\"Age\"]\n",
    "X_train, X_test, y_train, y_test = train_test_split(X_data, y_data, test_size=0.30, random_state=42)\n",
    "y_train = y_train.ravel()\n",
    "y_test = y_test.ravel()"
   ]
  },
  {
   "cell_type": "code",
   "execution_count": 8,
   "metadata": {},
   "outputs": [],
   "source": [
    "# Declare the hyper-parameters for grid search\n",
    "n_estimators = [int(x) for x in np.linspace(start = 200, stop = 2000, num = 10)]\n",
    "max_features = ['auto', 'sqrt']\n",
    "max_depth = [int(x) for x in np.linspace(10, 110, num = 11)]\n",
    "max_depth.append(None)\n",
    "min_samples_split = [2, 5, 10]\n",
    "min_samples_leaf = [1, 2, 4]\n",
    "bootstrap = [True, False]"
   ]
  },
  {
   "cell_type": "code",
   "execution_count": 9,
   "metadata": {},
   "outputs": [],
   "source": [
    "# Random grid ***(Total 10*2*12*3*3*2) = 4320 models will be built ***\n",
    "random_grid = {'n_estimators': n_estimators,\n",
    "               'max_features': max_features,\n",
    "               'max_depth': max_depth,\n",
    "               'min_samples_split': min_samples_split,\n",
    "               'min_samples_leaf': min_samples_leaf,\n",
    "               'bootstrap': bootstrap}"
   ]
  },
  {
   "cell_type": "code",
   "execution_count": 10,
   "metadata": {},
   "outputs": [
    {
     "name": "stdout",
     "output_type": "stream",
     "text": [
      "Fitting 3 folds for each of 200 candidates, totalling 600 fits\n"
     ]
    },
    {
     "name": "stderr",
     "output_type": "stream",
     "text": [
      "[Parallel(n_jobs=-1)]: Using backend LokyBackend with 8 concurrent workers.\n",
      "[Parallel(n_jobs=-1)]: Done  25 tasks      | elapsed:   40.6s\n",
      "[Parallel(n_jobs=-1)]: Done 146 tasks      | elapsed:  3.8min\n",
      "[Parallel(n_jobs=-1)]: Done 349 tasks      | elapsed:  9.9min\n",
      "[Parallel(n_jobs=-1)]: Done 600 out of 600 | elapsed: 17.2min finished\n"
     ]
    },
    {
     "data": {
      "text/plain": [
       "RandomizedSearchCV(cv=3, error_score=nan,\n",
       "                   estimator=RandomForestRegressor(bootstrap=True,\n",
       "                                                   ccp_alpha=0.0,\n",
       "                                                   criterion='mse',\n",
       "                                                   max_depth=None,\n",
       "                                                   max_features='auto',\n",
       "                                                   max_leaf_nodes=None,\n",
       "                                                   max_samples=None,\n",
       "                                                   min_impurity_decrease=0.0,\n",
       "                                                   min_impurity_split=None,\n",
       "                                                   min_samples_leaf=1,\n",
       "                                                   min_samples_split=2,\n",
       "                                                   min_weight_fraction_leaf=0.0,\n",
       "                                                   n_estimators=100,\n",
       "                                                   n_jobs=None, oob_score=Fals...\n",
       "                   param_distributions={'bootstrap': [True, False],\n",
       "                                        'max_depth': [10, 20, 30, 40, 50, 60,\n",
       "                                                      70, 80, 90, 100, 110,\n",
       "                                                      None],\n",
       "                                        'max_features': ['auto', 'sqrt'],\n",
       "                                        'min_samples_leaf': [1, 2, 4],\n",
       "                                        'min_samples_split': [2, 5, 10],\n",
       "                                        'n_estimators': [200, 400, 600, 800,\n",
       "                                                         1000, 1200, 1400, 1600,\n",
       "                                                         1800, 2000]},\n",
       "                   pre_dispatch='2*n_jobs', random_state=42, refit=True,\n",
       "                   return_train_score=False, scoring=None, verbose=2)"
      ]
     },
     "execution_count": 10,
     "metadata": {},
     "output_type": "execute_result"
    }
   ],
   "source": [
    "# RF Model\n",
    "rf = RandomForestRegressor()\n",
    "rf_random = RandomizedSearchCV(estimator = rf, param_distributions = random_grid, n_iter = 200, cv = 3,\n",
    "                               verbose=2, random_state=42, n_jobs = -1)\n",
    "# Fit the random search model\n",
    "rf_random.fit(X_train, y_train)"
   ]
  },
  {
   "cell_type": "code",
   "execution_count": 11,
   "metadata": {},
   "outputs": [],
   "source": [
    "def evaluate(model, X, y_act, data_str):\n",
    "    y_pred = model.predict(X)\n",
    "    MAE = metrics.mean_absolute_error(y_act, y_pred)\n",
    "    MSE = metrics.mean_squared_error(y_act, y_pred)\n",
    "    r2 = metrics.r2_score(y_act, y_pred)\n",
    "    print ('Model Performance:{}'.format(data_str))\n",
    "    print('Mean Absolute Error: {:0.4f}.'.format(MAE))\n",
    "    print('Mean Square Error = {:0.4f}.'.format(MSE))\n",
    "    print('Rsquare = {:0.4f}'.format(r2))\n",
    "    return MAE, MSE, r2"
   ]
  },
  {
   "cell_type": "code",
   "execution_count": 12,
   "metadata": {},
   "outputs": [
    {
     "data": {
      "text/plain": [
       "RandomForestRegressor(bootstrap=True, ccp_alpha=0.0, criterion='mse',\n",
       "                      max_depth=60, max_features='sqrt', max_leaf_nodes=None,\n",
       "                      max_samples=None, min_impurity_decrease=0.0,\n",
       "                      min_impurity_split=None, min_samples_leaf=2,\n",
       "                      min_samples_split=10, min_weight_fraction_leaf=0.0,\n",
       "                      n_estimators=600, n_jobs=None, oob_score=False,\n",
       "                      random_state=None, verbose=0, warm_start=False)"
      ]
     },
     "execution_count": 12,
     "metadata": {},
     "output_type": "execute_result"
    }
   ],
   "source": [
    "best_random = rf_random.best_estimator_\n",
    "best_random"
   ]
  },
  {
   "cell_type": "code",
   "execution_count": 13,
   "metadata": {},
   "outputs": [
    {
     "name": "stdout",
     "output_type": "stream",
     "text": [
      "Model Performance:Train Sample\n",
      "Mean Absolute Error: 1.0054.\n",
      "Mean Square Error = 1.9748.\n",
      "Rsquare = 0.8013\n"
     ]
    }
   ],
   "source": [
    "MAE, MSE, r2 = evaluate(best_random, X_train, y_train,'Train Sample')"
   ]
  },
  {
   "cell_type": "code",
   "execution_count": 14,
   "metadata": {},
   "outputs": [
    {
     "name": "stdout",
     "output_type": "stream",
     "text": [
      "Model Performance:Test Sample\n",
      "Mean Absolute Error: 1.4682.\n",
      "Mean Square Error = 4.1519.\n",
      "Rsquare = 0.5535\n"
     ]
    }
   ],
   "source": [
    "MAE, MSE, r2 = evaluate(best_random, X_test, y_test,'Test Sample')"
   ]
  },
  {
   "cell_type": "markdown",
   "metadata": {},
   "source": [
    "###### The selected model does well on \"Train\" sample, but the performance deteriorates on Test sample. We shall try to select the model manually, rather than using Grid search"
   ]
  },
  {
   "cell_type": "code",
   "execution_count": 15,
   "metadata": {},
   "outputs": [],
   "source": [
    "def RF_Iter(X_train, y_train, ntrees, depth, minsampleleaf, maxfeatures, X_test, y_test):\n",
    "    out_metrics = [None]*6\n",
    "    clf = RandomForestRegressor(n_estimators=ntrees, criterion='mse', max_depth=depth, min_samples_leaf=minsampleleaf,\n",
    "                                max_features=maxfeatures, verbose=0)\n",
    "    clf.fit(X_train, y_train)\n",
    "    # Predicting train output\n",
    "    y_pred = clf.predict(X_train)\n",
    "    # Getting train metrics\n",
    "    out_metrics[0] = metrics.mean_absolute_error(y_train, y_pred)\n",
    "    out_metrics[1] = metrics.mean_squared_error(y_train, y_pred)\n",
    "    out_metrics[2] = metrics.r2_score(y_train, y_pred)\n",
    "    \n",
    "    # Predicting test output\n",
    "    y_pred = clf.predict(X_test)\n",
    "    # Getting train metrics\n",
    "    out_metrics[3] = metrics.mean_absolute_error(y_test, y_pred)\n",
    "    out_metrics[4] = metrics.mean_squared_error(y_test, y_pred)\n",
    "    out_metrics[5] = metrics.r2_score(y_test, y_pred)\n",
    "    \n",
    "    return out_metrics"
   ]
  },
  {
   "cell_type": "code",
   "execution_count": 16,
   "metadata": {},
   "outputs": [],
   "source": [
    "ntrees = [50, 100]\n",
    "maxfeatures = ['auto', 'sqrt']\n",
    "depth = [10, 50, 100]\n",
    "minsampleleaf = [1, 2, 4]\n",
    "\n",
    "parameters = []\n",
    "results = []\n",
    "for i in range(0, len(ntrees)):\n",
    "    for j in range(0, len(maxfeatures)):\n",
    "        for k in range(0, len(depth)):\n",
    "            for l in range(0, len(minsampleleaf)):\n",
    "                parameters.append([ntrees[i], maxfeatures[j], depth[k], minsampleleaf[l]])\n",
    "                results.append(RF_Iter(X_train, y_train, ntrees[i], depth[k], minsampleleaf[l], maxfeatures[j],\n",
    "                                       X_test, y_test))\n"
   ]
  },
  {
   "cell_type": "code",
   "execution_count": 17,
   "metadata": {},
   "outputs": [
    {
     "data": {
      "text/html": [
       "<div>\n",
       "<style scoped>\n",
       "    .dataframe tbody tr th:only-of-type {\n",
       "        vertical-align: middle;\n",
       "    }\n",
       "\n",
       "    .dataframe tbody tr th {\n",
       "        vertical-align: top;\n",
       "    }\n",
       "\n",
       "    .dataframe thead th {\n",
       "        text-align: right;\n",
       "    }\n",
       "</style>\n",
       "<table border=\"1\" class=\"dataframe\">\n",
       "  <thead>\n",
       "    <tr style=\"text-align: right;\">\n",
       "      <th></th>\n",
       "      <th>Iteration_No</th>\n",
       "      <th>n_estimators</th>\n",
       "      <th>max_features</th>\n",
       "      <th>max_depth</th>\n",
       "      <th>min_samples_leaf</th>\n",
       "      <th>Train_MAE</th>\n",
       "      <th>Train_MSE</th>\n",
       "      <th>Train_R2</th>\n",
       "      <th>Test_MAE</th>\n",
       "      <th>Test_MSE</th>\n",
       "      <th>Test_R2</th>\n",
       "    </tr>\n",
       "  </thead>\n",
       "  <tbody>\n",
       "    <tr>\n",
       "      <th>0</th>\n",
       "      <td>1</td>\n",
       "      <td>50</td>\n",
       "      <td>auto</td>\n",
       "      <td>10</td>\n",
       "      <td>1</td>\n",
       "      <td>0.935646</td>\n",
       "      <td>1.528550</td>\n",
       "      <td>0.846210</td>\n",
       "      <td>1.459679</td>\n",
       "      <td>4.213025</td>\n",
       "      <td>0.546921</td>\n",
       "    </tr>\n",
       "    <tr>\n",
       "      <th>1</th>\n",
       "      <td>2</td>\n",
       "      <td>50</td>\n",
       "      <td>auto</td>\n",
       "      <td>10</td>\n",
       "      <td>2</td>\n",
       "      <td>0.955542</td>\n",
       "      <td>1.672174</td>\n",
       "      <td>0.831760</td>\n",
       "      <td>1.459494</td>\n",
       "      <td>4.180077</td>\n",
       "      <td>0.550465</td>\n",
       "    </tr>\n",
       "    <tr>\n",
       "      <th>2</th>\n",
       "      <td>3</td>\n",
       "      <td>50</td>\n",
       "      <td>auto</td>\n",
       "      <td>10</td>\n",
       "      <td>4</td>\n",
       "      <td>1.053549</td>\n",
       "      <td>2.111413</td>\n",
       "      <td>0.787568</td>\n",
       "      <td>1.450258</td>\n",
       "      <td>4.137746</td>\n",
       "      <td>0.555017</td>\n",
       "    </tr>\n",
       "    <tr>\n",
       "      <th>3</th>\n",
       "      <td>4</td>\n",
       "      <td>50</td>\n",
       "      <td>auto</td>\n",
       "      <td>50</td>\n",
       "      <td>1</td>\n",
       "      <td>0.579278</td>\n",
       "      <td>0.654936</td>\n",
       "      <td>0.934106</td>\n",
       "      <td>1.487962</td>\n",
       "      <td>4.323103</td>\n",
       "      <td>0.535083</td>\n",
       "    </tr>\n",
       "    <tr>\n",
       "      <th>4</th>\n",
       "      <td>5</td>\n",
       "      <td>50</td>\n",
       "      <td>auto</td>\n",
       "      <td>50</td>\n",
       "      <td>2</td>\n",
       "      <td>0.712551</td>\n",
       "      <td>1.029601</td>\n",
       "      <td>0.896410</td>\n",
       "      <td>1.469462</td>\n",
       "      <td>4.189590</td>\n",
       "      <td>0.549442</td>\n",
       "    </tr>\n",
       "  </tbody>\n",
       "</table>\n",
       "</div>"
      ],
      "text/plain": [
       "   Iteration_No n_estimators max_features max_depth min_samples_leaf  \\\n",
       "0             1           50         auto        10                1   \n",
       "1             2           50         auto        10                2   \n",
       "2             3           50         auto        10                4   \n",
       "3             4           50         auto        50                1   \n",
       "4             5           50         auto        50                2   \n",
       "\n",
       "   Train_MAE  Train_MSE  Train_R2  Test_MAE  Test_MSE   Test_R2  \n",
       "0   0.935646   1.528550  0.846210  1.459679  4.213025  0.546921  \n",
       "1   0.955542   1.672174  0.831760  1.459494  4.180077  0.550465  \n",
       "2   1.053549   2.111413  0.787568  1.450258  4.137746  0.555017  \n",
       "3   0.579278   0.654936  0.934106  1.487962  4.323103  0.535083  \n",
       "4   0.712551   1.029601  0.896410  1.469462  4.189590  0.549442  "
      ]
     },
     "execution_count": 17,
     "metadata": {},
     "output_type": "execute_result"
    }
   ],
   "source": [
    "# Convert Parameters to pandas dataframe\n",
    "parameters = np.array(parameters)\n",
    "parameters = parameters.reshape(-1,4)\n",
    "parameters = pd.DataFrame(parameters)\n",
    "parameters.columns = [\"n_estimators\", \"max_features\", \"max_depth\", \"min_samples_leaf\"]\n",
    "\n",
    "# Convert results to pandas dataframe\n",
    "results = np.array(results)\n",
    "results = results.reshape(-1,6)\n",
    "results = pd.DataFrame(results)\n",
    "results.columns = [\"Train_MAE\", \"Train_MSE\", \"Train_R2\", \"Test_MAE\", \"Test_MSE\", \"Test_R2\"]\n",
    "\n",
    "# Iteration number\n",
    "ite = np.arange(1,results.shape[0]+1)\n",
    "\n",
    "# Merge parameters to performance dataframe\n",
    "Performance_RF = pd.DataFrame(ite)\n",
    "Performance_RF.columns = [\"Iteration_No\"]\n",
    "Performance_RF = Performance_RF.join(parameters)\n",
    "Performance_RF = Performance_RF.join(results)\n",
    "Performance_RF. head()"
   ]
  },
  {
   "cell_type": "code",
   "execution_count": 18,
   "metadata": {},
   "outputs": [
    {
     "data": {
      "image/png": "[encoded data removed]",
      "text/plain": [
       "<Figure size 1080x360 with 3 Axes>"
      ]
     },
     "metadata": {
      "needs_background": "light"
     },
     "output_type": "display_data"
    }
   ],
   "source": [
    "# Lets plot the three performance meterics for Train and test to select best model\n",
    "plt.rcParams['figure.figsize'] = [15, 5]\n",
    "\n",
    "# Plot MAE for train and test\n",
    "plt.subplot(1,3,1)\n",
    "plt.plot(Performance_RF[\"Iteration_No\"], Performance_RF[\"Train_MAE\"], 'r-', label= \"Train MAE\")\n",
    "plt.plot(Performance_RF[\"Iteration_No\"], Performance_RF[\"Test_MAE\"], 'b-', label= \"Test MAE\")\n",
    "plt.xlabel(\"Iteration number\")\n",
    "plt.ylabel(\"MAE\")\n",
    "plt.legend()\n",
    "\n",
    "# Plot MSE for train and test\n",
    "plt.subplot(1,3,2)\n",
    "plt.plot(Performance_RF[\"Iteration_No\"], Performance_RF[\"Train_MSE\"], 'r-', label= \"Train MSE\")\n",
    "plt.plot(Performance_RF[\"Iteration_No\"], Performance_RF[\"Test_MSE\"], 'b-', label= \"Test MSE\")\n",
    "plt.xlabel(\"Iteration number\")\n",
    "plt.ylabel(\"MSE\")\n",
    "plt.legend()\n",
    "\n",
    "# Plot r2 for train and test\n",
    "plt.subplot(1,3,3)\n",
    "plt.plot(Performance_RF[\"Iteration_No\"], Performance_RF[\"Train_R2\"], 'r-', label= \"Train R2\")\n",
    "plt.plot(Performance_RF[\"Iteration_No\"], Performance_RF[\"Test_R2\"], 'b-', label= \"Test R2\")\n",
    "plt.xlabel(\"Iteration number\")\n",
    "plt.ylabel(\"R2\")\n",
    "plt.legend()\n",
    "plt.savefig(\"Manual_trainedRF_Perf.png\")\n",
    "plt.show()"
   ]
  },
  {
   "cell_type": "markdown",
   "metadata": {},
   "source": [
    "###### Comments:\n",
    "Based on the plots, hyper-parameter tuning doesn't seem to have any significant affect on random forest regressor results"
   ]
  },
  {
   "cell_type": "code",
   "execution_count": 19,
   "metadata": {},
   "outputs": [
    {
     "data": {
      "text/plain": [
       "RandomForestRegressor(bootstrap=True, ccp_alpha=0.0, criterion='mse',\n",
       "                      max_depth=60, max_features='sqrt', max_leaf_nodes=None,\n",
       "                      max_samples=None, min_impurity_decrease=0.0,\n",
       "                      min_impurity_split=None, min_samples_leaf=2,\n",
       "                      min_samples_split=10, min_weight_fraction_leaf=0.0,\n",
       "                      n_estimators=600, n_jobs=None, oob_score=False,\n",
       "                      random_state=None, verbose=0, warm_start=False)"
      ]
     },
     "execution_count": 19,
     "metadata": {},
     "output_type": "execute_result"
    }
   ],
   "source": [
    "best_random"
   ]
  },
  {
   "cell_type": "code",
   "execution_count": 20,
   "metadata": {},
   "outputs": [
    {
     "name": "stdout",
     "output_type": "stream",
     "text": [
      "++++++++++++++++++++++++\n",
      "\n",
      "Model Performance:Train Sample\n",
      "Mean Absolute Error: 1.0054.\n",
      "Mean Square Error = 1.9748.\n",
      "Rsquare = 0.8013\n",
      "++++++++++++++++++++++++\n",
      "\n",
      "Model Performance:Test Sample\n",
      "Mean Absolute Error: 1.4682.\n",
      "Mean Square Error = 4.1519.\n",
      "Rsquare = 0.5535\n"
     ]
    }
   ],
   "source": [
    "# Plot variable Importance of the RF model selected using Grid search\n",
    "clf = best_random\n",
    "\n",
    "print(\"++++++++++++++++++++++++\\n\")\n",
    "MAE1, MSE1, r21 = evaluate(best_random, X_train, y_train,'Train Sample')\n",
    "print(\"++++++++++++++++++++++++\\n\")\n",
    "plt.rcParams['figure.figsize'] = [15, 5]\n",
    "MAE2, MSE2, r22 = evaluate(best_random, X_test, y_test, 'Test Sample')"
   ]
  },
  {
   "cell_type": "code",
   "execution_count": 21,
   "metadata": {},
   "outputs": [],
   "source": [
    "def plot_ActvsPred(model, X, y, sample_name):\n",
    "    plt.rcParams['figure.figsize'] = [10, 5]\n",
    "    y_hat = model.predict(X)\n",
    "    y_hat = pd.DataFrame(y_hat)\n",
    "    y_hat.columns = [\"Predicted\"]\n",
    "    y_hat[\"Actual\"] = y\n",
    "    obs_np = np.arange(0, len(y))\n",
    "    y_hat = y_hat.sort_values(\"Actual\", ascending=True)\n",
    "    plt.plot(obs_np, y_hat[\"Actual\"],'r-', label=\"Actual Age\")\n",
    "    plt.plot(obs_np, y_hat[\"Predicted\"], 'b-', label=\"Predicted Age\")\n",
    "    plt.xlabel(\"observation\")\n",
    "    plt.ylabel(\"Age\")\n",
    "    plt.title(\"Actual Vs Predicted plot for {} sample\".format(sample_name))\n",
    "    plt.legend()\n",
    "    plt.savefig(f'RF_{sample_name}_actual_predicted.png')\n",
    "    plt.plot()\n",
    "    return"
   ]
  },
  {
   "cell_type": "code",
   "execution_count": 22,
   "metadata": {},
   "outputs": [
    {
     "data": {
      "image/png": "[encoded data removed]",
      "text/plain": [
       "<Figure size 720x360 with 1 Axes>"
      ]
     },
     "metadata": {
      "needs_background": "light"
     },
     "output_type": "display_data"
    }
   ],
   "source": [
    "# Plot Actual Versus Predicted for Train Sample\n",
    "plot_ActvsPred(clf, X_train, y_train, \"Train\")"
   ]
  },
  {
   "cell_type": "code",
   "execution_count": 23,
   "metadata": {},
   "outputs": [
    {
     "data": {
      "image/png": "[encoded data removed]",
      "text/plain": [
       "<Figure size 720x360 with 1 Axes>"
      ]
     },
     "metadata": {
      "needs_background": "light"
     },
     "output_type": "display_data"
    }
   ],
   "source": [
    "# Plot Actual Versus Predicted for Test Sample\n",
    "plot_ActvsPred(clf, X_train, y_train, \"Test\")"
   ]
  },
  {
   "cell_type": "markdown",
   "metadata": {},
   "source": [
    "###### Comments:\n",
    "The Random Forest model gives good predictions for most of the age range. It seems to do worse on the lower and upper side of Age variable. This could be due to data capturing error"
   ]
  },
  {
   "cell_type": "code",
   "execution_count": 24,
   "metadata": {},
   "outputs": [
    {
     "data": {
      "image/png": "[encoded data removed]",
      "text/plain": [
       "<Figure size 720x360 with 1 Axes>"
      ]
     },
     "metadata": {
      "needs_background": "light"
     },
     "output_type": "display_data"
    }
   ],
   "source": [
    "# Plot Variable Importance of the features in the final Model\n",
    "variable_importance = clf.feature_importances_\n",
    "variables = list(X_train.columns)\n",
    "importance = pd.DataFrame(variables)\n",
    "importance.columns = [\"Variables\"]\n",
    "importance[\"Importance\"] = variable_importance\n",
    "importance = importance.sort_values(\"Importance\", ascending = False)\n",
    "plt.bar(importance[\"Variables\"], importance[\"Importance\"])\n",
    "plt.xlabel(\"Variable\")\n",
    "plt.ylabel(\"Importance\")\n",
    "plt.title(\"Variable Importance for Random Forest Model\") \n",
    "plt.xticks(rotation=45)\n",
    "plt.savefig('VarImp_RF.png')\n",
    "plt.show()"
   ]
  },
  {
   "cell_type": "markdown",
   "metadata": {},
   "source": [
    "###### Comments:\n",
    "From the independent variables, the shell weight is the maximum driver of age"
   ]
  },
  {
   "cell_type": "markdown",
   "metadata": {},
   "source": [
    "           "
   ]
  },
  {
   "cell_type": "markdown",
   "metadata": {},
   "source": [
    "### Summary:"
   ]
  },
  {
   "cell_type": "markdown",
   "metadata": {},
   "source": [
    "###### Comparison on Model Performance:\n",
    "\n",
    "|             Model           | R2 (Train)  | MAE (Train) | MSE (Train) |R2 (Test)  | MAE (Test) | MSE (Test) |\n",
    "|-----------------------------|:-----------:|:-----------:|:-----------:|:---------:|:----------:|:-----------|\n",
    "|     Linear Regression       |   0.4180    |    1.7887   |   5.7849    |   0.3825  |   1.7622   |    5.7419  | \n",
    "|    Random Forest Regressor  |   0.8013    |    1.0054   |   1.9748    |   0.5535  |   1.4682   |    4.1519  |    "
   ]
  },
  {
   "cell_type": "markdown",
   "metadata": {},
   "source": [
    "###### Comments:\n",
    "Based on perfromance metrics $ R^2 $, MAE and MSE for test, the models in order of performance are:"
   ]
  },
  {
   "cell_type": "markdown",
   "metadata": {},
   "source": [
    "Random Forest Regressor <--- Linear Regression"
   ]
  },
  {
   "cell_type": "code",
   "execution_count": 25,
   "metadata": {},
   "outputs": [],
   "source": [
    "# Save the RF Model\n",
    "import pickle"
   ]
  },
  {
   "cell_type": "code",
   "execution_count": 26,
   "metadata": {},
   "outputs": [],
   "source": [
    "os.chdir('..\\\\Models\\\\')\n",
    "filename = \"RF_Regressor.sav\"\n",
    "pickle.dump(best_random, open(filename, 'wb'))"
   ]
  },
  {
   "cell_type": "markdown",
   "metadata": {},
   "source": [
    "       "
   ]
  }
 ],
 "metadata": {
  "kernelspec": {
   "display_name": "Python 3",
   "language": "python",
   "name": "python3"
  },
  "language_info": {
   "codemirror_mode": {
    "name": "ipython",
    "version": 3
   },
   "file_extension": ".py",
   "mimetype": "text/x-python",
   "name": "python",
   "nbconvert_exporter": "python",
   "pygments_lexer": "ipython3",
   "version": "3.7.6"
  }
 },
 "nbformat": 4,
 "nbformat_minor": 4
}
